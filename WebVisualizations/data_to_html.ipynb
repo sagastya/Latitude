{
 "cells": [
  {
   "cell_type": "code",
   "execution_count": 1,
   "metadata": {},
   "outputs": [],
   "source": [
    "# Dependencies\n",
    "import os\n",
    "import pandas as pd\n",
    "\n",
    "# File to Load \n",
    "file_to_load = \"Resources/cities.csv\"\n",
    "\n",
    "# Read cities File and store into Pandas data frame\n",
    "cities_data = pd.read_csv(file_to_load)\n",
    "\n",
    "cities_data.to_html('table.html', index=False, classes=['table', 'table-striped', 'table-hover'])\n",
    "\n"
   ]
  }
 ],
 "metadata": {
  "kernelspec": {
   "display_name": "Python 3.7.4 64-bit ('base': conda)",
   "language": "python",
   "name": "python37464bitbasecondacb945947e415487cafb7f72c06d3f01b"
  },
  "language_info": {
   "codemirror_mode": {
    "name": "ipython",
    "version": 3
   },
   "file_extension": ".py",
   "mimetype": "text/x-python",
   "name": "python",
   "nbconvert_exporter": "python",
   "pygments_lexer": "ipython3",
   "version": "3.7.4"
  }
 },
 "nbformat": 4,
 "nbformat_minor": 4
}
